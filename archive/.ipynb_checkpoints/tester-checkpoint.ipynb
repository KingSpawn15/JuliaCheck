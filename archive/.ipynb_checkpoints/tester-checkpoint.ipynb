{
 "cells": [
  {
   "cell_type": "code",
   "execution_count": 1,
   "id": "e66fce79",
   "metadata": {},
   "outputs": [],
   "source": [
    "using FFTW"
   ]
  },
  {
   "cell_type": "code",
   "execution_count": 25,
   "id": "f94cb376",
   "metadata": {},
   "outputs": [
    {
     "data": {
      "text/plain": [
       "fft2 (generic function with 2 methods)"
      ]
     },
     "execution_count": 25,
     "metadata": {},
     "output_type": "execute_result"
    }
   ],
   "source": [
    "function fft2(a::Matrix{Float64},n::Int64=size(a,2))\n",
    "    if n <= size(a,2)\n",
    "        return A = fft(a[:,1:n],(2,))\n",
    "    else\n",
    "        A = zeros(size(a,1),n)\n",
    "        A[:,1:size(a,2)] .= a\n",
    "        return fft(A,(2,))\n",
    "    end\n",
    "        \n",
    "end"
   ]
  },
  {
   "cell_type": "code",
   "execution_count": 28,
   "id": "09aac72f",
   "metadata": {},
   "outputs": [
    {
     "data": {
      "text/plain": [
       "2×4 Matrix{ComplexF64}:\n",
       " 10.0+0.0im  -2.0+2.0im  -2.0+0.0im  -2.0-2.0im\n",
       " 30.0+0.0im  -2.0+2.0im  -2.0+0.0im  -2.0-2.0im"
      ]
     },
     "execution_count": 28,
     "metadata": {},
     "output_type": "execute_result"
    }
   ],
   "source": [
    "a = [1.0 2 3 4; 6 7 8 9];\n",
    "fft2(a)"
   ]
  },
  {
   "cell_type": "code",
   "execution_count": null,
   "id": "a04a8c04",
   "metadata": {},
   "outputs": [],
   "source": []
  },
  {
   "cell_type": "code",
   "execution_count": null,
   "id": "c40f50fd",
   "metadata": {},
   "outputs": [],
   "source": []
  }
 ],
 "metadata": {
  "kernelspec": {
   "display_name": "Julia 1.8.3",
   "language": "julia",
   "name": "julia-1.8"
  },
  "language_info": {
   "file_extension": ".jl",
   "mimetype": "application/julia",
   "name": "julia",
   "version": "1.8.3"
  }
 },
 "nbformat": 4,
 "nbformat_minor": 5
}
