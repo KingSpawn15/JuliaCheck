{
 "cells": [
  {
   "cell_type": "code",
   "execution_count": 1,
   "metadata": {},
   "outputs": [
    {
     "data": {
      "text/plain": [
       "Main.cdem_julia"
      ]
     },
     "metadata": {},
     "output_type": "display_data"
    }
   ],
   "source": [
    "include(\"../src/cdem.jl\")"
   ]
  },
  {
   "cell_type": "code",
   "execution_count": 2,
   "metadata": {},
   "outputs": [
    {
     "data": {
      "text/plain": [
       "8"
      ]
     },
     "metadata": {},
     "output_type": "display_data"
    }
   ],
   "source": [
    "Threads.nthreads()"
   ]
  },
  {
   "cell_type": "code",
   "execution_count": 3,
   "metadata": {},
   "outputs": [],
   "source": [
    "using Plots\n",
    "using JLD2, FileIO, CodecZlib\n",
    "using .cdem_julia: mod_laser, mod_physicalconstants, mod_utils, mod_customtypes, mod_discrete,\n",
    "mod_cdem, mod_eels, mod_electron, mod_material\n",
    "using ..mod_customtypes:Discretization\n",
    "using ..mod_electron:Electron"
   ]
  },
  {
   "cell_type": "code",
   "execution_count": 4,
   "metadata": {},
   "outputs": [
    {
     "data": {
      "text/plain": [
       "Main.cdem_julia.mod_customtypes.NumericalParameters(30, 60)"
      ]
     },
     "metadata": {},
     "output_type": "display_data"
    }
   ],
   "source": [
    "las = mod_laser.set_laser!()\n",
    "mod_laser.set_laser!(;laser=las,\n",
    "    pulse_energy_experiment = 1 * 1e-9,\n",
    "    pulse_energy_gain_factor = 0.014,\n",
    "    laser_spot_fwhm = 40e-6,\n",
    "    theta_pol = 90*pi/180,\n",
    "    laser_pulse_time_fwhm = 650e-15);\n",
    "\n",
    "dis_sp = mod_discrete.discretization_setup(;x0 = 0.,\n",
    "    y0 = -1e-6,\n",
    "    d_xprime = 4e-2 * 3 * mod_utils.calculate_sigma(las.laser_spot_fwhm),\n",
    "    d_yprime = 4e-2 * 1e-6,\n",
    "    d_zprime = 4e-2 * 3 * mod_utils.calculate_sigma(las.laser_spot_fwhm),\n",
    "    xprime_max = 3 * mod_utils.calculate_sigma(las.laser_spot_fwhm),\n",
    "    yprime_max = 1e-6,\n",
    "    zprime_max = 3 * mod_utils.calculate_sigma(las.laser_spot_fwhm),\n",
    "    d_z = 2e-6,\n",
    "    zmax = 1e-4,\n",
    "    z_max = 30e-6,\n",
    "    t0 = -0.5e-12,\n",
    "    ddt = 10e-15,\n",
    "    delay_max = 3e-12,\n",
    "    fs = 2.4e15,\n",
    "    l = 1.08e4)\n",
    "\n",
    "mat = mod_material.IndiumArsenide()\n",
    "elec = mod_electron.set_electron!()\n",
    "mod_electron.set_electron!(;electron=elec,\n",
    "    electron_total_energy = 0.94,\n",
    "    electron_total_time_fs = 360.0,\n",
    "    electron_time_coherent_fwhm_fs = 50.0,\n",
    "    electron_theta = -7*pi/180,\n",
    "    electron_velocity_c = 0.7)\n",
    "\n",
    "numericalp = mod_customtypes.NumericalParameters(;tc_subsampling = 30,subsampling_factor = 60)"
   ]
  },
  {
   "cell_type": "code",
   "execution_count": 5,
   "metadata": {},
   "outputs": [
    {
     "data": {
      "text/plain": [
       "12-element Vector{Int64}:\n",
       "   0\n",
       "  20\n",
       "  40\n",
       "  45\n",
       "  60\n",
       "  80\n",
       " 100\n",
       " 120\n",
       " 135\n",
       " 140\n",
       " 160\n",
       " 180"
      ]
     },
     "metadata": {},
     "output_type": "display_data"
    }
   ],
   "source": [
    "base=\"c:/Users/kaiza/OneDrive/Desktop/code/JuliaCheck/analysis_photodember/saved-matrices/interact_v_onepulse\"\n",
    "\n",
    "v_struct = load(base*\".jld2\");\n",
    "\n",
    "t_c = dis_sp.t[dis_sp.t .> dis_sp.t0];\n",
    "t_c_subsampled = t_c[1:numericalp.tc_subsampling:end];\n",
    "w, e_w, t_w = mod_electron.energy_time_grid(elec,numericalp.subsampling_factor,dis_sp.energy, dis_sp.deltat);\n",
    "\n",
    "interaction_v_pd = v_struct[\"photodember\"]\n",
    "\n",
    "alpha_pd_0 =  .07;\n",
    "alpha_or_0 = 20 * 1.3 * 1.2;\n",
    "\n",
    "interact_v_pd = circshift(interaction_v_pd, (18,0));\n",
    "\n",
    "angle_array = sort(vcat([0:20:180;],[45, 135]))"
   ]
  },
  {
   "cell_type": "code",
   "execution_count": 6,
   "metadata": {},
   "outputs": [
    {
     "data": {
      "text/plain": [
       "loss_spectrum_single! (generic function with 1 method)"
      ]
     },
     "metadata": {},
     "output_type": "display_data"
    }
   ],
   "source": [
    "function loss_spectrum!(psi_sub_array::Array{Float64,3},\n",
    "    psi_incoherent_array::Array{Float64,3},\n",
    "    ind::Int64,\n",
    "    interact_v::Array{Float64,2}, \n",
    "    discretization::Discretization,\n",
    "    elec::Electron)\n",
    "        \n",
    "    f_t = mod_eels.calculate_ft(discretization, interact_v , elec);\n",
    "    \n",
    "    psi = mod_eels.calculate_psi_coherent(dis_sp, elec, f_t);\n",
    "    psi_sub = mod_eels.psi_subsampled(numericalp.subsampling_factor,psi, e_w);\n",
    "    @views @inbounds psi_sub_array[:,:,ind] .= psi_sub\n",
    "    @views @inbounds psi_incoherent_array[:,:,ind] .= mod_eels.incoherent_convolution_fast(psi_sub, w, t_w, e_w);\n",
    "end\n",
    "\n",
    "function loss_spectrum_single!(interact_v::Array{Float64,2}, \n",
    "    discretization::Discretization,\n",
    "    elec::Electron)\n",
    "        \n",
    "    f_t = mod_eels.calculate_ft(discretization, interact_v , elec);\n",
    "    \n",
    "    psi = mod_eels.calculate_psi_coherent(dis_sp, elec, f_t);\n",
    "    psi_sub = mod_eels.psi_subsampled(numericalp.subsampling_factor,psi, e_w);\n",
    "    \n",
    "    psi_incoherent = mod_eels.incoherent_convolution_fast(psi_sub, w, t_w, e_w);\n",
    "\n",
    "    return psi_sub, psi_incoherent\n",
    "end"
   ]
  },
  {
   "cell_type": "code",
   "execution_count": 84,
   "metadata": {},
   "outputs": [
    {
     "name": "stdout",
     "output_type": "stream",
     "text": [
      "  3.300158 seconds (39.93 k allocations: 4.381 GiB, 29.51% gc time)\n"
     ]
    }
   ],
   "source": [
    "alpha_pd_0 =  .03;\n",
    "alpha_or_0 = 10 * 1.3 * 1.2;\n",
    "\n",
    "# v_or = alpha_or_0 .* circshift(v_struct[\"angle_\"*string(150)], (-15,0));\n",
    "# @time psi_sub_130, psi_incoherent_130 = loss_spectrum_single!(v_or, dis_sp, elec);\n",
    "\n",
    "# v_pd = alpha_pd_0 .* circshift(v_struct[\"photodember\"], (18,0));\n",
    "# @time psi_sub_pd0, psi_incoherent_pd0 = loss_spectrum_single!(v_pd, dis_sp, elec);\n",
    "\n",
    "v_or = alpha_or_0 .* circshift(v_struct[\"angle_\"*string(150)], (0,0));\n",
    "@time psi_sub_130, psi_incoherent_130 = loss_spectrum_single!(v_or, dis_sp, elec);\n"
   ]
  },
  {
   "cell_type": "code",
   "execution_count": 97,
   "metadata": {},
   "outputs": [
    {
     "name": "stdout",
     "output_type": "stream",
     "text": [
      "  0.005761 seconds (11 allocations: 8.323 MiB)\n",
      "  0.004938 seconds (11 allocations: 8.323 MiB)\n",
      "  0.004120 seconds (11 allocations: 8.323 MiB)\n",
      "  0.003745 seconds (11 allocations: 8.323 MiB)\n"
     ]
    },
    {
     "name": "stdout",
     "output_type": "stream",
     "text": [
      "  0.004288 seconds (11 allocations: 8.323 MiB)\n",
      "  0.006047 seconds (11 allocations: 8.323 MiB)\n",
      "  0.005616 seconds (11 allocations: 8.323 MiB)\n"
     ]
    }
   ],
   "source": [
    "\n",
    "shift_array = 16:22;\n",
    "\n",
    "v_pd_array = zeros(size(v_or)...,length(shift_array))\n",
    "\n",
    "for (ind, shift) in enumerate(shift_array)\n",
    "    @time v_pd_array[:,:,ind] .= alpha_pd_0 .* circshift(v_struct[\"photodember\"], (shift,0));\n",
    "end\n"
   ]
  },
  {
   "cell_type": "code",
   "execution_count": 98,
   "metadata": {},
   "outputs": [
    {
     "data": {
      "text/plain": [
       "(101, 10801, 7)"
      ]
     },
     "metadata": {},
     "output_type": "display_data"
    }
   ],
   "source": [
    "size(v_pd_array)"
   ]
  },
  {
   "cell_type": "code",
   "execution_count": 99,
   "metadata": {},
   "outputs": [
    {
     "name": "stdout",
     "output_type": "stream",
     "text": [
      "  2.849903 seconds (39.94 k allocations: 4.397 GiB, 19.98% gc time)\n"
     ]
    },
    {
     "name": "stdout",
     "output_type": "stream",
     "text": [
      "  3.311486 seconds (39.97 k allocations: 4.389 GiB, 30.53% gc time)\n"
     ]
    },
    {
     "name": "stdout",
     "output_type": "stream",
     "text": [
      "  3.113084 seconds (39.98 k allocations: 4.397 GiB, 24.41% gc time)\n"
     ]
    },
    {
     "name": "stdout",
     "output_type": "stream",
     "text": [
      "  3.070361 seconds (39.98 k allocations: 4.389 GiB, 24.96% gc time)\n"
     ]
    },
    {
     "name": "stdout",
     "output_type": "stream",
     "text": [
      "  3.078951 seconds (39.99 k allocations: 4.397 GiB, 25.00% gc time)\n"
     ]
    },
    {
     "name": "stdout",
     "output_type": "stream",
     "text": [
      "  3.325466 seconds (39.98 k allocations: 4.389 GiB, 32.11% gc time)"
     ]
    },
    {
     "name": "stdout",
     "output_type": "stream",
     "text": [
      "\n"
     ]
    },
    {
     "name": "stdout",
     "output_type": "stream",
     "text": [
      "  3.250763 seconds (40.03 k allocations: 4.397 GiB, 30.34% gc time)\n"
     ]
    },
    {
     "name": "stdout",
     "output_type": "stream",
     "text": [
      "  3.338876 seconds (39.98 k allocations: 4.389 GiB, 31.24% gc time)\n"
     ]
    },
    {
     "name": "stdout",
     "output_type": "stream",
     "text": [
      "  3.232658 seconds (39.98 k allocations: 4.397 GiB, 28.16% gc time)"
     ]
    },
    {
     "name": "stdout",
     "output_type": "stream",
     "text": [
      "\n"
     ]
    },
    {
     "name": "stdout",
     "output_type": "stream",
     "text": [
      "  3.316129 seconds (40.03 k allocations: 4.389 GiB, 30.50% gc time)"
     ]
    },
    {
     "name": "stdout",
     "output_type": "stream",
     "text": [
      "\n"
     ]
    },
    {
     "name": "stdout",
     "output_type": "stream",
     "text": [
      "  3.417082 seconds (40.03 k allocations: 4.397 GiB, 30.35% gc time)"
     ]
    },
    {
     "name": "stdout",
     "output_type": "stream",
     "text": [
      "\n"
     ]
    },
    {
     "name": "stdout",
     "output_type": "stream",
     "text": [
      "  3.412003 seconds (40.03 k allocations: 4.389 GiB, 30.71% gc time)\n"
     ]
    },
    {
     "name": "stdout",
     "output_type": "stream",
     "text": [
      "  3.225683 seconds (39.98 k allocations: 4.397 GiB, 28.46% gc time)\n"
     ]
    },
    {
     "name": "stdout",
     "output_type": "stream",
     "text": [
      "  3.205424 seconds (39.98 k allocations: 4.389 GiB, 28.45% gc time)\n"
     ]
    }
   ],
   "source": [
    "psi_sub_comb_array = zeros(size(psi_sub_130)...,length(shift_array));\n",
    "psi_incoherent_comb_array = zeros(size(psi_incoherent_130)...,length(shift_array));\n",
    "psi_sub_pd_array = zeros(size(psi_sub_130)...,length(shift_array));\n",
    "psi_incoherent_pd_array = zeros(size(psi_incoherent_130)...,length(shift_array));\n",
    ";\n",
    "for (ind, _) in enumerate(shift_array)\n",
    "    @time psi_sub_comb, psi_incoherent_comb = loss_spectrum_single!(v_pd_array[:,:,ind].+v_or, dis_sp, elec);\n",
    "    psi_sub_comb_array[:,:,ind] = psi_sub_comb;\n",
    "    psi_incoherent_comb_array[:,:,ind] = psi_incoherent_comb;\n",
    "\n",
    "    @time psi_sub_pd, psi_incoherent_pd = loss_spectrum_single!(v_pd_array[:,:,ind], dis_sp, elec);\n",
    "    psi_sub_pd_array[:,:,ind] = psi_sub_pd;\n",
    "    psi_incoherent_pd_array[:,:,ind] = psi_incoherent_pd;\n",
    "end\n"
   ]
  },
  {
   "cell_type": "code",
   "execution_count": 126,
   "metadata": {},
   "outputs": [
    {
     "name": "stdout",
     "output_type": "stream",
     "text": [
      "1"
     ]
    },
    {
     "name": "stdout",
     "output_type": "stream",
     "text": [
      "2"
     ]
    },
    {
     "name": "stdout",
     "output_type": "stream",
     "text": [
      "3"
     ]
    },
    {
     "name": "stdout",
     "output_type": "stream",
     "text": [
      "4"
     ]
    },
    {
     "name": "stdout",
     "output_type": "stream",
     "text": [
      "5"
     ]
    },
    {
     "name": "stdout",
     "output_type": "stream",
     "text": [
      "6"
     ]
    },
    {
     "name": "stdout",
     "output_type": "stream",
     "text": [
      "7"
     ]
    },
    {
     "ename": "UndefVarError",
     "evalue": "UndefVarError: plt not defined",
     "output_type": "error",
     "traceback": [
      "UndefVarError: plt not defined\n",
      "\n",
      "Stacktrace:\n",
      " [1] top-level scope\n",
      "   @ c:\\Users\\kaiza\\OneDrive\\Desktop\\code\\JuliaCheck\\analysis_photodember\\plotter.ipynb:45"
     ]
    }
   ],
   "source": [
    "plot_agg = [];\n",
    "gr(;size=(500,1000))\n",
    "p_rect = heatmap(e_w, t_w .- 0.2, psi_sub_130, c =:jet, \n",
    "aspect_ratio = 9/2.5,\n",
    "xlims=[-4.5,4.5],\n",
    "ylims=[-1,1.5],\n",
    "colorbar=false,\n",
    "xaxis=true,\n",
    "yaxis=true,\n",
    "right_margin = 0Plots.mm,\n",
    "bottom_margin = -10Plots.mm);\n",
    "yflip!(true);\n",
    "\n",
    "for (ind, _) in enumerate(shift_array)\n",
    "    print(ind)\n",
    "    p_pd = heatmap(e_w, t_w .- 0.2, psi_sub_pd_array[:,:,ind], c =:jet, \n",
    "    aspect_ratio = 9/2.5,\n",
    "    xlims=[-4.5,4.5],\n",
    "    ylims=[-1,1.5],\n",
    "    colorbar=false,\n",
    "    xaxis=(ind==length(shift_array) ? true : false),\n",
    "    yaxis=false,\n",
    "    right_margin = 0Plots.mm,\n",
    "    bottom_margin = -10Plots.mm);\n",
    "    yflip!(true);\n",
    "    \n",
    "\n",
    "    p = heatmap(e_w, t_w .- 0.2, psi_sub_comb_array[:,:,ind], c =:jet, \n",
    "    aspect_ratio = 9/2.5,\n",
    "    xlims=[-4.5,4.5],\n",
    "    ylims=[-1,1.5],\n",
    "    colorbar=false,\n",
    "    xaxis=(ind==length(shift_array) ? true : false),\n",
    "    yaxis=false,\n",
    "    right_margin = 0Plots.mm,\n",
    "    bottom_margin = -10Plots.mm);\n",
    "    yflip!(true);\n",
    "    \n",
    "\n",
    "    push!(plot_agg,p_rect);\n",
    "    push!(plot_agg,p_pd);\n",
    "    push!(plot_agg,p);\n",
    "\n",
    "end\n"
   ]
  },
  {
   "cell_type": "code",
   "execution_count": 127,
   "metadata": {},
   "outputs": [],
   "source": [
    "\n",
    "gui(plot(plot_agg...,layout=(7,3)))\n",
    "# default(show = true)"
   ]
  },
  {
   "cell_type": "code",
   "execution_count": 101,
   "metadata": {},
   "outputs": [
    {
     "data": {
      "text/plain": [
       "(21,)"
      ]
     },
     "metadata": {},
     "output_type": "display_data"
    }
   ],
   "source": [
    "size(plot_agg)"
   ]
  },
  {
   "cell_type": "code",
   "execution_count": 107,
   "metadata": {},
   "outputs": [
    {
     "data": {
      "text/plain": [
       "7"
      ]
     },
     "metadata": {},
     "output_type": "display_data"
    }
   ],
   "source": [
    "length(shift_array)"
   ]
  },
  {
   "cell_type": "code",
   "execution_count": 103,
   "metadata": {},
   "outputs": [
    {
     "name": "stdout",
     "output_type": "stream",
     "text": [
      "  3.574282 seconds (39.94 k allocations: 4.381 GiB, 36.98% gc time)"
     ]
    },
    {
     "name": "stdout",
     "output_type": "stream",
     "text": [
      "\n"
     ]
    },
    {
     "name": "stdout",
     "output_type": "stream",
     "text": [
      "  3.158193 seconds (40.02 k allocations: 4.381 GiB, 26.45% gc time)\n"
     ]
    },
    {
     "data": {
      "text/plain": [
       "([0.0 0.0 … 0.0 0.0; 0.0 0.0 … 0.0 0.0; … ; 0.0 0.0 … 0.0 0.0; 0.0 0.0 … 0.0 0.0], [0.0013862813944863557 0.0013869535502122191 … 0.0013873125567026474 0.001386400883199853; 0.0013848716219344586 0.0013853904138210929 … 0.001386207066802041 0.0013851434790654365; … ; 0.0013850782737105621 0.0013860573381553492 … 0.0013854934119365474 0.0013848904815659294; 0.0013863509642529253 0.0013871781277185846 … 0.001387072191401055 0.001386315655162307])"
      ]
     },
     "metadata": {},
     "output_type": "display_data"
    }
   ],
   "source": [
    "# alpha_pd_0 =  .01;\n",
    "# alpha_or_0 = 10 * 1.3 * 1.2;\n",
    "\n",
    "v_or = alpha_or_0 .* circshift(v_struct[\"angle_\"*string(150)], (0,0));\n",
    "@time psi_sub_130, psi_incoherent_130 = loss_spectrum_single!(v_or, dis_sp, elec);\n",
    "\n",
    "v_pd = alpha_pd_0 .* circshift(v_struct[\"photodember\"], (18,0));\n",
    "@time psi_sub_pd0, psi_incoherent_pd0 = loss_spectrum_single!(v_pd, dis_sp, elec);\n",
    "\n",
    "\n",
    "# v_or = alpha_or_0 .* circshift(v_struct[\"angle_\"*string(150)], (0,0));\n",
    "# @time psi_sub_130, psi_incoherent_130 = loss_spectrum_single!(v_or, dis_sp, elec);\n",
    "\n",
    "# v_pd = alpha_pd_0 .* circshift(v_struct[\"photodember\"], (0,0));\n",
    "# @time psi_sub_pd0, psi_incoherent_pd0 = loss_spectrum_single!(v_pd, dis_sp, elec);\n"
   ]
  },
  {
   "cell_type": "code",
   "execution_count": 104,
   "metadata": {},
   "outputs": [
    {
     "data": {
      "image/png": "[encoded data removed]",
      "image/svg+xml": "<?xml version=\"1.0\" encoding=\"utf-8\"?>\n<svg xmlns=\"http://www.w3.org/2000/svg\" xmlns:xlink=\"http://www.w3.org/1999/xlink\" width=\"100\" height=\"800\" viewBox=\"0 0 400 3200\">\n<defs>\n  <clipPath id=\"clip240\">\n    <rect x=\"0\" y=\"0\" width=\"400\" height=\"3200\"/>\n  </clipPath>\n</defs>\n<path clip-path=\"url(#clip240)\" d=\"\nM0 3200 L400 3200 L400 0 L0 0  Z\n  \" fill=\"#ffffff\" fill-rule=\"evenodd\" fill-opacity=\"1\"/>\n<defs>\n  <clipPath id=\"clip241\">\n    <rect x=\"640\" y=\"320\" width=\"400\" height=\"2241\"/>\n  </clipPath>\n</defs>\n<path clip-path=\"url(#clip240)\" d=\"\nM47.2441 1660.63 L168.504 1660.63 L168.504 1539.37 L47.2441 1539.37  Z\n  \" fill=\"#ffffff\" fill-rule=\"evenodd\" fill-opacity=\"1\"/>\n<defs>\n  <clipPath id=\"clip242\">\n    <rect x=\"47\" y=\"1539\" width=\"122\" height=\"122\"/>\n  </clipPath>\n</defs>\n<polyline clip-path=\"url(#clip240)\" style=\"stroke:#000000; stroke-linecap:round; stroke-linejoin:round; stroke-width:4; stroke-opacity:1; fill:none\" points=\"\n  47.2441,1660.63 168.504,1660.63 \n  \"/>\n<polyline clip-path=\"url(#clip240)\" style=\"stroke:#000000; stroke-linecap:round; stroke-linejoin:round; stroke-width:4; stroke-opacity:1; fill:none\" points=\"\n  47.2441,1539.37 47.2441,1660.63 \n  \"/>\n<g clip-path=\"url(#clip242)\">\n<image width=\"134\" height=\"292\" xlink:href=\"data:image/png;base64,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\nE4khTCSGMPl/qiTdSQrGxdAAAAAASUVORK5CYII=\n\" transform=\"translate(41, 1432)\"/>\n</g>\n<path clip-path=\"url(#clip240)\" d=\"\nM247.244 1660.63 L368.504 1660.63 L368.504 1539.37 L247.244 1539.37  Z\n  \" fill=\"#ffffff\" fill-rule=\"evenodd\" fill-opacity=\"1\"/>\n<defs>\n  <clipPath id=\"clip243\">\n    <rect x=\"247\" y=\"1539\" width=\"122\" height=\"122\"/>\n  </clipPath>\n</defs>\n<polyline clip-path=\"url(#clip240)\" style=\"stroke:#000000; stroke-linecap:round; stroke-linejoin:round; stroke-width:4; stroke-opacity:1; fill:none\" points=\"\n  247.244,1660.63 368.504,1660.63 \n  \"/>\n<polyline clip-path=\"url(#clip240)\" style=\"stroke:#000000; stroke-linecap:round; stroke-linejoin:round; stroke-width:4; stroke-opacity:1; fill:none\" points=\"\n  247.244,1539.37 247.244,1660.63 \n  \"/>\n<g clip-path=\"url(#clip243)\">\n<image width=\"134\" height=\"292\" xlink:href=\"data:image/png;base64,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\nmkNPvAETQAAAAABJRU5ErkJggg==\n\" transform=\"translate(241, 1432)\"/>\n</g>\n</svg>\n",
      "text/html": [
       "<?xml version=\"1.0\" encoding=\"utf-8\"?>\n",
       "<svg xmlns=\"http://www.w3.org/2000/svg\" xmlns:xlink=\"http://www.w3.org/1999/xlink\" width=\"100\" height=\"800\" viewBox=\"0 0 400 3200\">\n",
       "<defs>\n",
       "  <clipPath id=\"clip270\">\n",
       "    <rect x=\"0\" y=\"0\" width=\"400\" height=\"3200\"/>\n",
       "  </clipPath>\n",
       "</defs>\n",
       "<path clip-path=\"url(#clip270)\" d=\"\n",
       "M0 3200 L400 3200 L400 0 L0 0  Z\n",
       "  \" fill=\"#ffffff\" fill-rule=\"evenodd\" fill-opacity=\"1\"/>\n",
       "<defs>\n",
       "  <clipPath id=\"clip271\">\n",
       "    <rect x=\"640\" y=\"320\" width=\"400\" height=\"2241\"/>\n",
       "  </clipPath>\n",
       "</defs>\n",
       "<path clip-path=\"url(#clip270)\" d=\"\n",
       "M47.2441 1660.63 L168.504 1660.63 L168.504 1539.37 L47.2441 1539.37  Z\n",
       "  \" fill=\"#ffffff\" fill-rule=\"evenodd\" fill-opacity=\"1\"/>\n",
       "<defs>\n",
       "  <clipPath id=\"clip272\">\n",
       "    <rect x=\"47\" y=\"1539\" width=\"122\" height=\"122\"/>\n",
       "  </clipPath>\n",
       "</defs>\n",
       "<polyline clip-path=\"url(#clip270)\" style=\"stroke:#000000; stroke-linecap:round; stroke-linejoin:round; stroke-width:4; stroke-opacity:1; fill:none\" points=\"\n",
       "  47.2441,1660.63 168.504,1660.63 \n",
       "  \"/>\n",
       "<polyline clip-path=\"url(#clip270)\" style=\"stroke:#000000; stroke-linecap:round; stroke-linejoin:round; stroke-width:4; stroke-opacity:1; fill:none\" points=\"\n",
       "  47.2441,1539.37 47.2441,1660.63 \n",
       "  \"/>\n",
       "<g clip-path=\"url(#clip272)\">\n",
       "<image width=\"134\" height=\"292\" xlink:href=\"data:image/png;base64,\n",
       "iVBORw0KGgoAAAANSUhEUgAAAIYAAAEkCAYAAADq2knAAAARCUlEQVR4nO2dW6wkx1nHfz3nsmd3\n",
       "veuNd31DQnaw4Yg4Inbwoghe4sRESCAScnlBKC+xZAkkIhQRyQGREAmLF1DMAwFFvIGEwkMScZMQ\n",
       "sZ0EEZy1Y1nWAkuy8VpcHOe663O85z7DQ3XN1NR+fZ2e6Z6Z/09qTU9fa7p+89VXNT0zCXx8gBAR\n",
       "vbYLILqJxBAmEkOYSAxhIjGEicQQJhJDmEgMYbLajhtJzfVJznxizPeCZb1gXS94jPcBGKQTQD+d\n",
       "7wfL+9H6eJ9wnpx5Siwvu75ZVmd6tiH+RWYJMMhZl3fMqvv4MsRihMesStP7tDMwvZp/4joXugp5\n",
       "lVm3osN9846RcKMU1j5+WdZ5yFlftqx11jWFfY6CiBHvNG1RrPPHIT7JWFcFa79QkCZfd14z0kY0\n",
       "KHfOik1JeNCmJJmkgusQ5yJW5Ii3DyPQrGjyXNWPNUGO0aQkVeSwokZccWWT21CIMBHtZ2xfVK64\n",
       "aSmTdGYda1ImO0ZDyWfZCik6RlYCGC8vI1KZbbKiRZXXUaYCrG3q9k7qnKs6DfdV425anf2rLC9a\n",
       "l0dRk5JE21WlTpknvXbNNT9T6q5OEkGqRI6s9WWbprAZid8j/ZLH8Oez5ou2LbO8yrmbY8rjGHXz\n",
       "kLpNRSxk1kWLcwtLjPAc1nmsQawqTUbVbSbZvjozHPZs4sVndffqVkiWIHm9lCrlLNM97Z4UMPOR\n",
       "z6pNTN3Es8yxLCnCbfOiRR0mlWK2Yx4tfYjWZOad1zUsSshiOVYoHzGs7mlReeoy+4Gwlj4rgfLR\n",
       "o0qUydo2L9fw0WIlWB5+cJZ3nnhZ2Qpservm6cDH7nUvUtE70to+rDwrWqySHTWshLPMuesOg7cn\n",
       "BbQaMULqdm+zuqhlh7DjiOH3CZPQrPMWNSXxfFnaFcLTETE8RYJY6+OkMpTCusdiEG2XMIoWfr9D\n",
       "4IhxuYoiRlFkqDu+0Q4dE8NTZTDLWl4UMeLxlR7uUvRweUUcLYqapbxuc97ysutnT0fFgOpJZ5kk\n",
       "Nn7Hh/nFOiMx9rDlKJtgzkcekUeHxfDkRQew8worWgyMye/fw4mxgmtCQims/azjVO2mdlcKKLyD\n",
       "q4hZ3UeRFz2yks54WDyrUn2OsYF7nxwynogWCRGfI16W9VpmRb3zTRgx8sYHpkGWIHk9EiuB7DN+\n",
       "Q28POI6LGvuMevHxtlZ0KCvFtIVo9vhT/nQ1pElZrOYlFiFLjrCS/dQDTuLk2Emfx9tYcjSVfFZl\n",
       "+lFnhjlG09ElTiLD5ZYcvrfh54/SyY9u3gycArYytskTJC6P9bwO7eUhHRn5rJLxZx0j75hxE3IU\n",
       "PB66+ZWb4c6ee6TPaCwj3N6KNla5J3kdk16LZuhgryS+IFVvlsmKHiG+sg9G0+3AZrr5/wXLb4gY\n",
       "WXmF9bxsmbtHByJGEWV7Blnbhx+IhVHiAJdPbANXnRS/iXvkarp8J90ujB7WN9PKlqU7EaGIORCj\n",
       "iLKhPZbkCNcDuQ5chVPw0HuedGkGV9Pl+4xHjDi/qFKG+aKDTUlT5FVMmJCmEeQSPPnsO0kuDYDX\n",
       "GBeizDEXiwUWI4u4olM5Lj3PC+cBnsdFiuWRwGIBmpImGACX+QIAl1l2KUBiBAxSHSQFSAyRgcQQ\n",
       "JhJDmEgMYSIxhInEECYSQ5hIDGEiMYSJxBAmEkOYSAxhIjGEicQQJhJDmEgMYSIxhInEECYSQ5hI\n",
       "DGEiMYSJxBAmEkOYSAxhIjGEicQQJhJDmEgMYSIxhInEECYSQ5hIDGEiMYSJxBAmEkOYSAxhIjGE\n",
       "icQQJhJDmEgMYSIxhInEECYSQ5hIDGEiMYSJxBAmEkOYSAxhIjGEicQQJhJDmEgMYSIxhInEECYS\n",
       "Q5hIDGEiMYSJxBAmEkOYSAxhIjGEicQQJhJDmEgMYSIxhInEECYSQ5hIDGEiMYSJxBAmEkOYSAxh\n",
       "IjGEicQQJhJDmEgMYSIxhInEECYSQ5hIDGEiMYSJxBAmEkOYSAxhIjGEicQQJhLjBpK2C9AJJMaQ\n",
       "QdsF6BQSY4gXQ5cEdBUCjtJGZLXlcnQDiTHkgDUATrRcjm4gMYbscisAP9pyObqBxBiyw68AvHWz\n",
       "7YJ0AokxZIezl+FNz11suyCdQGIMOSD51oCLn3pz2wXpBBJjSB9+/iLcC3Aryz7QJTHG+AeS7w7g\n",
       "vb8B/BjL3HVN4OMa8hvjBHzzo26864PAV58AtoDDdos1YxQxbuA63HsBPgZ8BLjzw8DbgXWWqXlR\n",
       "xDBZBW4HHobH3ghXgU//F/As8AqwzaJ/tiIxMkmANeBdcO5BeA/wTeDpPvDnwA+BAxZVEIlRyCpw\n",
       "CvhVuP9W+Gnga8CLl4Gngf9usWzTQ2KU5jhwDvgp+K3z8AAugnzyk0C/1ZJNA4lRiQRYAd4MvJvB\n",
       "tR7JzX8EvNZusaaAeiWl8ZeqD3wX+Au4AnC6rQJNleUdwSkkwSWWPVxX9Uy67Cy8/f3wk5DsPQJ8\n",
       "Kt1mwCIlohJjSA9X8QlOhNV0OgvcBtyH66WccwHj6X349D/hmpHFkgKWTowkeOzh8oUV3GU4CWyk\n",
       "0zncDTsbuKZiDTd2cRV4AS5ewXVXd1jExBMWUoxwdLIXTGuMosBJXFQ4DRxL548zyiP2gV3gGvAf\n",
       "OAGu4cYtDtNpsSJEzJyL4UN/KMAx3MtaA27CVfo6ToZVXITo4d7p+7jKvgb8T/p8H7iOq/wjRhIs\n",
       "ZmTIYs7E8JW/ggvz6zgRwnf+CcYr37/DX2dU8ds4IXZxle+nAYuYL9RhTsRYwb3jfwQXBW7C9RJ8\n",
       "8X2F7+HygN103gtwmK7vM3r3S4A85kCMY8B52HwYvg1c2wd+ALyE6xFsAd/HiXCQPoYCgASozhwM\n",
       "cN0OH32Yx/7zcZcD8hTweeArwNeBSzhjfoiTZJ9RfqCoUJc5GBJ/A9z6YefBQ8ArV3BDji/jTNll\n",
       "1G30E0iIyZgDMXq4fOI+4G5cgrnCSIrruBGn6+nz13BNygEuevgmJexVdPwld4A5EMOzghtrWMf1\n",
       "SG5hNCB1ktHI5SEjMbZxOYfvifgeis9D4uZmTi7FDJiD5NNzhKtcP4D1HUbd1w3cuEU8dnETcDMj\n",
       "abwMOzhZwi7sDqNu6yGjBBaWUZg5EsPjKym8OXcvffSDXf4x/MzjBOPCnMZ9TcDn32G3dis9pu/y\n",
       "hlFmORLaORTDInxnh7nEHqMIE35ItsZ407SOiywbOIFuw10a3zTt4brE27go8wOcSEcs6ojogoiR\n",
       "h5fmKFh2gKt03zT5G3DiD9ROAHfgbu07jxtT6QHfwzVl/wv8O4soxxKIkUWcP4TieGF6uK7xGq7Z\n",
       "uQW4A255K/zEPe5G8i/8FXCZRZNjjnolbRJGlVVct/l+OLbpvtJ48Q9xXeXFYQ5GPruAz138B28v\n",
       "Ac/C3ufgLbCIX0Ra4qakKj5iHAfeBw/dDR8Cfu0CriezWEiMUvRwn+z+OPBz8OurbtjjYwD/zHh+\n",
       "shhIjFwSXML5Rtj8JXhTuvhPXwX+Ddek7GXtPNdIDBM/1nEb3PkI/CzuBq/P7QFfBZ5hNOC1mEgM\n",
       "kzuAX4B33eV+JuMfgZf/EngV14Ys/k8iSIwbWIP3PQqPAi8Av/0l4CLuE9zl6dlLjDFWgffDZ4Ff\n",
       "Bv7+X4AvM/6B2nIgMYb04Ozv8vL37uKu5AlclDhou1CtoZHPIW/gM4MXucLd/EES39izfEiMIb/I\n",
       "YOVnSI4PYPsTbRemdTQk7nnn+fReoCfaLkknkBievwb+DNy30oTESPm9c7/PxUfvY9l6H1lIjJQP\n",
       "8Dd8lg+0XYzOIDFS7uUyl7mn7WJ0BomRss4++xxruxidQWKk7LLBhvsOpEBiDNniFKfYarsYnUFi\n",
       "pLzOSU5yve1idAaJkdKnR28B78Sqi8RIuYlttjnVdjE6g8RIuWPn27zE3W0XozNIDM8z8Axva7sU\n",
       "nUH3Y3j+Fr6/dhYNiTskRsrWHwPPtV2K7qCmJOWLAF/abrsYnUFipLwEwIWWS9EdJEaKa1OvtFuI\n",
       "DiExUtw/ul9tuRTdQWKkuI7qYv2UwSRIjJTTd8Eifjm5LhLDs9F2AbqFxPB8A3Q5RuhKpPxrH9Ad\n",
       "XEMkRsqLgPv/MwESY8gaAPe3XIruIDFS3gvwNonhkRgpZz4D/B0s4i/w1UFipDz+yGNcOPsgEsMh\n",
       "MVJ+5yuP8+BHnsP9ZKPQ/RieT8DOk+DS0OX9wRSPIobnyQOeAtw/EQiJMeR5LgHuHweExBjyWvoF\n",
       "RUUMkBgBu+lnq0q7QGIEHKY/x6ZeCUiMAP8rfbokoKsQ4MXQABdIDAOJARJDZCAxhuiriSESQ5hI\n",
       "DGEiMYSJxBAmEkOYSAxhIjGEicQQJhJDmEgMYSIxhInEECYSQ5hIDGEiMYSJxBAmEkOYSAxhIjGE\n",
       "icQQJhJDmEgMYSIxhInEECYSQ5hIDGEiMYSJxBAmEkOYSAxhIjGEicQQJhJDmEgMYSIxhInEECYS\n",
       "Q5hIjCFJ+guf+p1PkBgpCXAP7wbgHiTHUoqRBFMP928D67D5AG+5AGw+4J6zmq4Pt18eFliMJGfq\n",
       "4f5lYA3378ynYRPe8eAXYRP3nGPp+hVuFCSeFo8F+HOOMhWTRI+9dFoHNoAzsAVPff4dsIV7DsAu\n",
       "sI/7Afp+ur//BeHwl4SzyjC/vzY8B2JUfUfG24dS+GklnY4DJ4EzcAn4E9wjZ4BDRiIcpdMgmEJJ\n",
       "PPHzorJ3V5wOilE3NFv7WVLETUk6vYqrp+8wvpyVdEWfcSw5kmBdnTJ3R5QOiNFEG50XJfyjF8JH\n",
       "DC9HmmQeXYNXTuHaEp+Uhtv1sQXxxILUqeTuiDJDMZpO0rKOVyRFGDF8xQNcw+UTO+nzcJtBcLwe\n",
       "IznCqJEVPaB+BbeXu0xJjGln6nnNRjifGPNWD6MPvI77I16fbFrNTxgtwmYjlMMvi8vWZGVar79Z\n",
       "WSYUY9ZdtaIoEc7HUoTLfK/EL+/jIsUBLukM/wYr3DaODpYcYItQNf+oSrPRZXU++uF5ZcySIlyW\n",
       "N/lexy6u2Qh7IEVjF7EIRXKEZZtV/lCvfjuQfBZRJkqEz7N6InmV28c1Ib658Ilm3nFCsnKNPAma\n",
       "bl6apcNiVDG9zLZWpXopjhgX44hxObL2zztXmUqfdfQoT0fFKLr4VXskWdEFRnKEA1qWFHn7Z/VM\n",
       "wu3zKr970aNjYtQRoqhJCZfHCakfxTzixpHOcITT2p/oOHHlWs8hW4BuRY+OiFE3AbYSz3C+KPz7\n",
       "6OCbjyRaVlSJ/hhZSWedSNANQTogRlkp8sJ52UgSJ51+8mJ4+tF6a//wuHnjFkWRJIt2m5cWxagr\n",
       "RNG2ZSTxeCkSqkeMScYpym7bXvRo6X6Muk2Htb+VU8RNSRZW1LCiRVYZis5tlbcOk+5fnRlHjKov\n",
       "sMq7v+qxYinC9XlyTHL+SYbKZxs9ZhgxpiFFVg+k7PliOcImpChilClnXl5UpZyTbF+PKUeMpt7d\n",
       "ZbeJm46shDEWIqZIkLhXEi6rExWqJprW+Zulg5+uFg1eldmv7Pmz5AilKEOVLmrdQbC841Fz32wa\n",
       "FmNaSVbeceuec5Dx6Oet5VXIq+im5fD7MsH+4zQkRhPtXhUp6jY1MbEM4XyVHKNOUzENOfz+THiM\n",
       "icRoMgmqOlYRz5ftnnqsIezwLvBYjKpjEwk3nqNqD2TSd/5keUhFMaaREc+6jx5WtnXBYjEmbVLq\n",
       "0uTIZ3VJCsSY/cBK/vmbGjQKPxwLl4WP1ro6NDE83iRZr3uclu/gmkZSGe5bZtQz3CeOJmVGP61m\n",
       "qQp1ktQmsa9RS5+VVOl6NnXMLPKakzrUqcwiOchZPx1Ws78nIZaZBf5Ss5gEiSFMJIYwkRjCRGII\n",
       "E4khTCSGMPl/qiTdSQrGxdAAAAAASUVORK5CYII=\n",
       "\" transform=\"translate(41, 1432)\"/>\n",
       "</g>\n",
       "<path clip-path=\"url(#clip270)\" d=\"\n",
       "M247.244 1660.63 L368.504 1660.63 L368.504 1539.37 L247.244 1539.37  Z\n",
       "  \" fill=\"#ffffff\" fill-rule=\"evenodd\" fill-opacity=\"1\"/>\n",
       "<defs>\n",
       "  <clipPath id=\"clip273\">\n",
       "    <rect x=\"247\" y=\"1539\" width=\"122\" height=\"122\"/>\n",
       "  </clipPath>\n",
       "</defs>\n",
       "<polyline clip-path=\"url(#clip270)\" style=\"stroke:#000000; stroke-linecap:round; stroke-linejoin:round; stroke-width:4; stroke-opacity:1; fill:none\" points=\"\n",
       "  247.244,1660.63 368.504,1660.63 \n",
       "  \"/>\n",
       "<polyline clip-path=\"url(#clip270)\" style=\"stroke:#000000; stroke-linecap:round; stroke-linejoin:round; stroke-width:4; stroke-opacity:1; fill:none\" points=\"\n",
       "  247.244,1539.37 247.244,1660.63 \n",
       "  \"/>\n",
       "<g clip-path=\"url(#clip273)\">\n",
       "<image width=\"134\" height=\"292\" xlink:href=\"data:image/png;base64,\n",
       "iVBORw0KGgoAAAANSUhEUgAAAIYAAAEkCAYAAADq2knAAAAWyUlEQVR4nO2dbZBk1VnHf93TMzu7\n",
       "w+6yLKyAEIJYAfMCISkCBigJFaLxjVimQMtKldEiVPlFyw98s9APfqEsUcvSCmWVX/JB0RioaCKa\n",
       "iFVAjIQooGWCgfCiBsiyL+zM7szszHT74ZzT9+kzz7kv3be773Y/v6pb03Puueeee87/Puc5z7m3\n",
       "uwX39zCMiPa0K2A0ExOGoWLCMFRMGIaKCcNQMWEYKiYMQ8WEYah0pqON1pB5WjmfW8rntkhri31t\n",
       "8Tc+BqDnN4Cu/9wV6d1of3yM/EzOZ0qkl91fL1OyGHHD1VVm/LnMOVo526RoligAOvknHXfj9HLO\n",
       "kbevDjQBFFmpFGUsQpljq+yrC/0cnWoHTfIuCuePTXwrsa8K8XFSJL1EnlT9quSJ809jmarcOSsO\n",
       "JT3qHwamWVaZYaQV/Z0UdbdLtX4bwceoUyRVzGmRL1FUn9hJ1RzSWCBlrUeZupahrjYdvn9qcj7r\n",
       "EEjdDVfGd8qzGGV9kLrrV0c7ji6sAh+jKlXG59Tx2rHjcFI1ccT7ylCmg8v6FqN0aL3+Ss3CCIwi\n",
       "kGHEEe8vK5Z4KJGEWEWZqWuVIaNuUYzHgR2TMAKy0lXvwjKdEeeJBZlqNM2/SI2qO0r5qfFbO9+o\n",
       "w14d+aszwQBXHRef6ohhO0SKQm7DBLrKBNiGreco+YdjzBYjpuoQk7IKw1oTLYyuDSVVHLhR8k16\n",
       "plKeKYbE6zq+yGrkdXI8lCywe9oKg4IqmiIPM4UuYioh8WlR1noME4nMm8HEfk8QwYJIL3I8U50/\n",
       "CSszGRqw7D5sIxXdkWXG99hadBi0GqkV16Jyh5mqlil3ckzRYkiGnd6mpqjhc5koqLQY4ZgFnNXQ\n",
       "Zje9aIv3x/WrynQFEWiIMAJlhoJ4f+xUSlFod3zc8MFidMRx21S3GKm/cb4UzRBEoGHCCFQJZmnp\n",
       "KYsRd1ro/DCMtP2+s2TDiVZGymIMazmaJQporDCgnPXIi3TmWRLZqWEoWSQbQhaUY4tmOFrd68o3\n",
       "eRosjECe9YjFESjyDYjyLgB7/N8dBoURi0LbUP7Gn7W6N5eCJ7iKmNQzCnnWo8hayA4LW5fsWc1g\n",
       "MfbgrMY2+cKA3QKrIopJC2K4841oMVInHZdgUgLJm5HEw4fW0W1gL04cWwz6F0FImsVJzUzKTmvr\n",
       "pN7yx7y6KqlTLCkrEc6jDRextQhbKGsF2AdskjmhMk/VYUSrW12M3+pM0Meo27poPkVI10LY4Dq5\n",
       "zW5xtIADwEHgtMiriaisKOrqvOn4Ig2JfFbx+FNl5JWp+Rc7OH9i231uHYJL2rC03+cT+wbeLUlZ\n",
       "kLz6VLmOOtpjdBogjJhhGyavgzRx7OD8Cb9dCFwNXIxID8KQ4kj5Fak6lKnzdEWg0UBhxOTd/Skn\n",
       "LxZBylJsAGvASbgS+HXgOoATwCqwzqBAinyOUeveHM4BYRRRptE1kezgIpzrwNvQgds+8c9wBOCk\n",
       "T99k91BSdI5zo+OLOAcCXMOS1zFhn7Agz8Ljz32E1vd6wNsMCqJMmbPFDAsjRdzRXhxn/o4X3g9w\n",
       "CmdJ5kcEGjMwlNRBD3idLwDwHPMuCjBhCBbZArI4xnxjwuizx6+ebEy5Hs3AhNFn2cdLTRhgwhCc\n",
       "7z3xtSnXoxmYMPr0vMs5qUcJmo0Jo89bbANuIc0wYfQJIZ3tqdaiKZgw+oQXjnZyc80LJow+697H\n",
       "WJ5yPZqBCaNPaAqLeoIJw0hgwtiFWQwwYRgJTBiGignDUDFhGComDEPFhGGomDAMFROGoWLCMFRM\n",
       "GIaKCcNQMWEYKiYMQ8WEYaiYMAwVE4ahYsIwVEwYhooJw1AxYRgqJgxDxYRhqJgwDBUThqFiwjBU\n",
       "TBiGignDUDFhGComDEPFhGGomDAMFROGoWLCMFRMGIaKCcNQMWEYKiYMQ8WEYaiYMAwVE4ahYsIw\n",
       "VEwYhooJw1AxYRgqJgxDxYSxC/uxPDBhCOynryQmjD5L3lZsTbkezcCE0ScMIfZDNmDCEHT9X2sS\n",
       "sFYQBEthzieYMAQ2hEhMGH3MYkhMGAKzGRkmDEPFhGGomDD6tLx3YQMKmDAE5nRKTBh9LPIpMWH0\n",
       "MWFITBh9zMeQmDD6hKYwYYAJQ9A2iyEwYfTp+MboFuSbD0wYfUwYEhNGnz0sAvZon8OE0ec8lgHY\n",
       "nnI9moEJo88RLgBMGI45FYYS/n7HET4AmDAccyqMmDZ3vPoPHOldAGyI9BbutQJtHWW211ZmQBip\n",
       "TovTQyd3RFobOABcy8/zeQ7/6THcrKQNLAP7ovyhnFSzzY5YWnB/z13QuAI7WtmpdQktXTZ2nB7K\n",
       "lultv/XIZhgtYA9OGF1g3addDPwU3HwZXAr81bPAV4HzcAlrwMvAWTJhLeDePZHnbfv93UTdq1x/\n",
       "EwJsrV23Q3+HY9QLyrvQqmVropD5w//hbu6KfG3cnd/FdeoCTigfhisug6fWgG/5fe8DfgAnqn8h\n",
       "E9eiP64NbEbnkyKVf/NuihRFN0e8L+xPtb/Mr527h9Z2nazh4saXB8SfR6WKWGS9Ug3UEn+7Yl+w\n",
       "Hi0yK7EDLOGGijfg1e8AL8K++9yuzVXgCeAo8BaDw8YWTmBBZOH8XTJrIgNkYViS1yHrrLV7W/yv\n",
       "pcdp4dplfcJ1y7QWg3UJ+1oifygHOi5h0Wc6m1NxrXPkBWjCkXeQJC+vVm6eKPOGGjmcwOAQswb8\n",
       "O7AH/vo++OSbwHeA14Dv+XyXAf/nj90SZSyIcqUQtLpoHSrTY9roQTYtXXamLGsBvd/COTXBhHRn\n",
       "aTv62FgnZa3DsGXHwgt3Spy+SHbHhynpFnADveUWLf4QJ5aw7zyclZEWSLZVLMK89DjMntfmqfw7\n",
       "Srp2TlmGlq6Jbnd6Jzth6gRa5cumjZvUjERbQl/CiaLNYKziRbgf4G0GndVNYDUqO7ZAktQaSyo9\n",
       "Zf2q5Nf6TPPJIG2hFtl9Tb3QglpBqcrUQcoBS6Vr08PgUMYs4vyHuKxLgXeK9JZP+2WOP3MB+t0Y\n",
       "nzfV6FXRptMBraO14Vj6F3G6xlKiHitKOS0pjHFQ9uLz9qXG6AUlvYUThjTHLVyjHMEFr9ZxwrkU\n",
       "3n0P/Pkihz91TJQTytBEoV1TVZGnxFWUP06rkh6sZOwPdXB+5W4r2KnuA1SdlpbNq5lR6UHH6fGY\n",
       "G4aQTVwjBJ9gEXdXvAy8gRPF3fCuK+C9wKe3gc+SdcyCKF8OLVWm3sOma8NI7PTLmZDmsKfSt6L0\n",
       "sG9drY+wxaPEKKo0QJGA4vPJO58oXV5oOC40AGTmdhM4AVwCF94LPwH8B/DwF4HnRb3iMoKjqlmr\n",
       "HXFcOH9qWqqlx9PS8FlOeUN6EL1MD3llvrCF9K7422JQ9MFfkmVn9elklVxg9wJS0Z2iEecfZrpK\n",
       "tH9wjp0hGze2HqGRtnDmcgn4JAtHd9i5aAHe+mPguM97FfAig0NQG2dp3o7qp43todG1yGcQkZYe\n",
       "iy6UH5t2rR/CUKBZTk3QcpotBdnBtc3GwHnb6bFNnqhKekxd/ktZv0Q6dnLatg0cZOeBBXirhwuH\n",
       "X41rsB8Bzie708KwJgM/8lx5Iq6aHpMaTuL0kKbNHLWpbS+RDprDugC3/Xb+kDCMxSiTR2vcVDoi\n",
       "XXMC4/RwoZ2ozG34ymPANbi75LDfrsbdMW2cddlWypX1CpFOrY6paaGWN74OeZ5UepyWl14mbxDK\n",
       "zsC+9qAoUhXSLiCPVHwhHkLic6bufC1dM5NyzA2O517cukgL51icAE7Bofe4vxwDnvbHvg/nkYbj\n",
       "N/3nJbJZUKhDEEGZa9LaUOu8on1aZ6eOT6HtCzdCdj3ChkhFxReQd4JRTSpKelEZMoAlzWwc8g1h\n",
       "7L0+bdX//YbTxMotwP8CzwDP4vyMZVHOji9jm92OXuz8xnWMKdvZwzBqGfJadgkjzlT25Km8ZdNj\n",
       "b12ma+OhFjIOPsS2krYGnPFpwem7BHZegp8BZw26Ps9/A09F1xUEpj3ZlddWdflWkySLdSSW3ZtO\n",
       "VRO6AxzELadfB/e+2/mev/P3uJmJNrOJqRKqPvc5R4VRhSXgYuj8CtyIWzD9G+Do88A3sNcFdGZc\n",
       "GPuAX4Q7L3eLpV8DnnoVeBTnb5goUsy4MD7Cnb1v8ujnLodPfR0X5TyGm20Yecy2MFZu4JEvfYjW\n",
       "Z3q4WccJXJzCKGIGnhLP4fRT7PvJM/BbAHcA7wfegRtiwgpqlfjM/DDbFoMnWG91YfFWOHwVbFwF\n",
       "p1eB/wRO4lZbN/x2hsEHlmZztlGWlnt9YJZZwFmIy3DPZKzgPNHwOsEWLtbxCk4c2zjRhGX3s+yO\n",
       "ncx4kzHzFgNc564CL+Aim0Eoe3FxjRVctPMSsgDYBk4gW7gQ6TrZ86BhtTYsSA0uV88KcyCMQOjE\n",
       "LbLnM75P9ojgMs7v2APsx8U/loALGQzBb+OEsokTyGn/N5QbBBOWt8/NYWmOhCEJHRXWUjbZHTYP\n",
       "S+7LuGZaIRPLCu7VxvCOCTgxBLGcxVmp8P86TlBheGq+WOZUGBpyOJD+RHjJ+RjZLCa8lRYL5iBu\n",
       "iDoAXE62CruBE8m6Lyc8e3qapgrFhFGIJphgaVq4J7zCqqQUzH6yF6MvAi7wnz/gjz2Le5npKPAm\n",
       "8Po4L6IyJoyRiO90+YDPKbKHhpZwvssy8IM4v+USuOZmN0H6IPDZ36VJP9Q3B9PVphACaeHFp2Xg\n",
       "HuAVnuvdzXWtT+Omyc1gtiOfjUE+dtjBWY/zYN8ydK7hMT5G0xb0zGLURktsbVznh7fqL8I5pgeB\n",
       "K3AO6yJuyvw67p2XZ2mSA2o+xlBIESzimnERNxvZ67eL/N9lnEBCFPV53FT2FC6OIl+Qag4mjEKC\n",
       "AMLDxh2cx7jst8Pi87I/JjxfegwXHwlT1BAvCVPU5n7ZrAljFzLA1cFZgWXcTCKE0lfIHhg+g+v0\n",
       "4wwKYI0soBW/5NN8TBiAE0MIUu3DrZscwMUiDpG9ExsCU9/FCWIdZxnCw8JhSGhewKoqcy6MDs4C\n",
       "HAKuw/kFB3AWYx3nB7yGC2J9HyeMsCYy20v0cyyMFvBR4Ca4EmcA3twG/gc3QziJC1mHZ0Pjl5hn\n",
       "mzkWxgXw+ZvgceAR4M2/xU0dV3GCmF1rUIY5FUYb+Gl4DHjo34Bv4p7mGud3kZ1bzKkwgENXwkN/\n",
       "glvEAhPEIHMaEu/Bia/Bl34NuJ65bYYc5rRFesCT3PfxB+CJnwVum3J9msecCgPgDA/ceB933fIw\n",
       "nLkVe41gkDkWBvD0H/DwO+/iL/bejftGHSMw38LgJLz6e/zCz/0l8OPTrkyjmHNhAKzBIw/Cbddg\n",
       "w0mGCQOAVRcVN/qYMAC4G77wJBbLyDBh0ILPXY37gjYjYMJggX/8pTvY/UsD840JgwU++k9fwYaR\n",
       "QUwYdHn69g9hM5JBTBhsc+Oj/4p7gtsImDDowSdeBj4z7Yo0ChMGAI/y4d6zuFcADDBheN7mqVtv\n",
       "xn0/lwEmDE+P558EuGvaFWkMJgzPtT8GPBh+pcAwYQQehKt+46Vp16IxmDA8m9fv4Sa+Pu1qNAYT\n",
       "hmfPK5u8wLumXY3GYMIIfAGeee0GLDTumN/XB2K+jPtKCwMwi5HxAvDtaVeiOZgwAodx33RgACaM\n",
       "jNuA26ddieZgwgj8Klxzy7ewAJfDhOF57D0f4zf5/WlXozGYMDwPcS/3dP8MsxgOE4bny3zcTVlN\n",
       "GIAJo8/6d/fCf027Fs3BhBE47jcDMGFkbGK/uikwYQTC788YgAkj45TfzPkETBgZr+O+n80ATBgZ\n",
       "L+N+YdMsBmDCyHgJJw5rEsBaIeM1eGMbrEkc1gqBo/AWYEOJw4QRWHNfFG3CcJgwAt0m/6zM5DFh\n",
       "BJbDI5/2MDCYMDKW7JVmiQkj0ArehVkMMGFkbIRfcTfnE0wYGSf8Uok1CWCtkLGxyjHA/R6aYcLo\n",
       "8yYnAHNBHSaMPsf9N30uTbkezcCE0WfVP8BlFgNMGIKz/gc0zccAE4bApqkSE0afJW8rdgryzQcm\n",
       "jD4r3u3cmnI9moEJo88B9gImDIcJo88B9gGwPeV6NAMTRp9lv+xuT2WACcNIYMLoc8Ivotn31YEJ\n",
       "Q3DcP/NpIXEwYQhO+ucxlqdcj2Zgwuiz6ucje6dcj2Zgwuiz4f+axQAThiBMU20RDUwYgrCIZnEM\n",
       "MGEIwmzEvj0FTBiCFd8Y61OuRzMwYfTZ75/dsi/iAhOGYL9fK7GhBEwYgmXvZdiDOmDCEISmsFcU\n",
       "wYQh2PSRT4tjgAlDsOpjn/b6AJgwBKe822khcTBhCFZ9zHNlyvVoBiaMPmv+EZ2DU65HMzBh9Nnx\n",
       "jWE+BpgwBC0/UbXpKpgwBB0f2rKQOJgwBMve+Twz5Xo0AxNGnxX/RIYJA0wYgvP8rGSjIN98YMLo\n",
       "s8/PR+zdVTBhCBbtaxAEJow+PT9RtS9QAROGYMNWVwUmjD6nvXdhryiCCUOw5ocSW0QDE4anBRzh\n",
       "TgCux/yMuRRGS2xt3NceLMFFt3DtM8CP/rD7n47fL/PPDzMsjFbO1sY5mYu4n6/ZD++F2z/4Vfgh\n",
       "cEvvy37/ArsFom2zxQx8S0iZTmlFf9t+W8IJ4yBswOOP3A7HAc7HrbK2cYtqXb+1GFx9lZ+1epy7\n",
       "K7XngDCq3o1xfimKsAUrsIxzNs93v7v6R8CLAIdwX9LWwglix289sWnE6UV1b65wGiiMYc2ydpwm\n",
       "ingoWQSW4CjwbfxvbC6KLcQ1egy+8NxjtwVpiX3D1Lk5QmmAMOoYn/OsRPgrRRGE0aHvZPZOwusH\n",
       "gDWfL+xbIBNBm/Tb8LFAhunk5gxHExRG3Q5aqjxNJFIUUhxhA/f7Rltkq6txniAKKQ5pNVLWA0br\n",
       "3OmIZUzCGLeXnjdsyM8t5XPc2cGPWMMJY4us42WeuKxALI6QFtetzs4cv1hGFMakp2llrESeKFLT\n",
       "zC7u6w+2/bYTHdeO8sfnii2GJoSq/kdVUm0z3Pk658YcPK+OZayH5nzKd1W7uGlpEEWXwU6Wm2YZ\n",
       "tOEkZSXGLZDU+arRAOeziLKiyHM484JRPZwYzpL5D2FqmldOXEZKHJAWSHNmITENFkaR0jVRlMkf\n",
       "d26wGEEYQSixI5kSRepcZTp90tajPA0VRhVRaOkpEcR/Q7BqhyygFYQShpPULAdRRmpmIo/J6/zm\n",
       "WY+GCWMYQaQcwrxpqySIIBZGHOGUPkZcriaO1PQ1JYBmWY+GCGNYBzg1nKQsRkzo/OBXhM7UHFBZ\n",
       "dspiaPWr2tHNEEgDhFFWFCnLkCojL39ADhvyIeBhLEYqTbMcZf2P6YljisIYVhBFeYtmMfHdrlkM\n",
       "KYw8S1B2BqIdXybv9KzHlJ7HGDV2kjdNjfOVHUqCOLoMigN23/GpOpTZPwyjHl+dCVuMqhdYZogY\n",
       "9rhetMnFMSmKMucadmioMlxM1npM0GKMQxRF1qKI2GLIaWrRsxd558ubGQ1Tz1HyD8eYLUYds40q\n",
       "eeJhIzWUxJYiziNFEpcfxzaKHMsyVqGqo5k6f300cHW1KHhV5riy55cWITWUlLEaebOQvLxl0osY\n",
       "zxBT81BSNCsoc3yV9KJ9ecQdn9qKKFPnMkNKXnoZRm37QWqyGHVUqOq0dJQ8WlAq/qyJo06HtG7L\n",
       "IY9nxDJGEkadTlAVizDq1DA1RMinwGNRDBubqDLExGWNOjSM5odUFMY4POJJCUxDa7CUlZh0kKnO\n",
       "yGd1kRQIY/KBlfzz1xU0yptZyLQ6ZhN1hMfrRJuh7WbKT3CNw6ksi+z4eBio6oQOO2QU5Z9EUEtv\n",
       "5ymtlYx7SMoLfMUMay3qZNgp7vjo2K8GGhoz/FKzMQomDEPFhGGomDAMFROGoWLCMFRMGIbK/wNc\n",
       "mkNPvAETQAAAAABJRU5ErkJggg==\n",
       "\" transform=\"translate(241, 1432)\"/>\n",
       "</g>\n",
       "</svg>\n"
      ]
     },
     "metadata": {},
     "output_type": "display_data"
    }
   ],
   "source": [
    "plot_agg = [];\n",
    "\n",
    "p = heatmap(e_w, t_w .- 0.2, psi_sub_130, c =:jet, \n",
    "aspect_ratio = 9/2.5,\n",
    "xlims=[-4.5,4.5],\n",
    "ylims=[-1,1.5],\n",
    "colorbar=false,\n",
    "xaxis=nothing,\n",
    "yaxis=nothing,\n",
    "right_margin = -0Plots.mm);\n",
    "yflip!(true);\n",
    "push!(plot_agg,p)\n",
    "\n",
    "p = heatmap(e_w, t_w .- 0.2, psi_sub_pd0, c =:jet, \n",
    "aspect_ratio = 9/2.5,\n",
    "xlims=[-4.5,4.5],\n",
    "ylims=[-1,1.5],\n",
    "colorbar=false,\n",
    "xaxis=nothing,\n",
    "yaxis=nothing,\n",
    "right_margin = -0Plots.mm);\n",
    "yflip!(true);\n",
    "push!(plot_agg,p)\n",
    "\n",
    "plot(plot_agg...,layout=(1,2))"
   ]
  }
 ],
 "metadata": {
  "kernelspec": {
   "display_name": "Julia 1.8.3",
   "language": "julia",
   "name": "julia-1.8"
  },
  "language_info": {
   "file_extension": ".jl",
   "mimetype": "application/julia",
   "name": "julia",
   "version": "1.8.3"
  },
  "orig_nbformat": 4
 },
 "nbformat": 4,
 "nbformat_minor": 2
}
