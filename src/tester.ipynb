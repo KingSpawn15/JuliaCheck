{
 "cells": [
  {
   "cell_type": "code",
   "execution_count": 1,
   "id": "e66fce79",
   "metadata": {},
   "outputs": [],
   "source": [
    "using FFTW"
   ]
  },
  {
   "cell_type": "code",
   "execution_count": 2,
   "id": "f94cb376",
   "metadata": {},
   "outputs": [
    {
     "data": {
      "text/plain": [
       "fft2 (generic function with 2 methods)"
      ]
     },
     "metadata": {},
     "output_type": "display_data"
    }
   ],
   "source": [
    "function fft2(a::Matrix{Float64},n::Int64=size(a,2))\n",
    "    if n <= size(a,2)\n",
    "        return A = fft(a[:,1:n],(2,))\n",
    "    else\n",
    "        A = zeros(size(a,1),n)\n",
    "        A[:,1:size(a,2)] .= a\n",
    "        return fft(A,(2,))\n",
    "    end\n",
    "        \n",
    "end"
   ]
  },
  {
   "cell_type": "code",
   "execution_count": 9,
   "id": "5dd6c460",
   "metadata": {},
   "outputs": [
    {
     "ename": "UndefVarError",
     "evalue": "UndefVarError: interact_v_fft not defined",
     "output_type": "error",
     "traceback": [
      "UndefVarError: interact_v_fft not defined\n"
     ]
    }
   ],
   "source": [
    "interact_v_fft"
   ]
  },
  {
   "cell_type": "code",
   "execution_count": 8,
   "id": "09aac72f",
   "metadata": {},
   "outputs": [
    {
     "data": {
      "text/plain": [
       "2×4 Matrix{ComplexF64}:\n",
       " 10.0+0.0im  -2.0+2.0im  -2.0+0.0im  -2.0-2.0im\n",
       " 30.0+0.0im  -2.0+2.0im  -2.0+0.0im  -2.0-2.0im"
      ]
     },
     "metadata": {},
     "output_type": "display_data"
    }
   ],
   "source": [
    "a = [1.0 2 3 4; 6 7 8 9];\n",
    "fft2(a)"
   ]
  },
  {
   "cell_type": "code",
   "execution_count": 4,
   "id": "a04a8c04",
   "metadata": {},
   "outputs": [],
   "source": []
  },
  {
   "cell_type": "code",
   "execution_count": 4,
   "id": "c40f50fd",
   "metadata": {},
   "outputs": [
    {
     "data": {
      "text/plain": [
       "f2 (generic function with 1 method)"
      ]
     },
     "metadata": {},
     "output_type": "display_data"
    }
   ],
   "source": [
    "function f1()\n",
    "    x = 1.0:0.1:1000\n",
    "    x1 = zeros(length(x))\n",
    "    for i in 1:length(x)\n",
    "        x1[i] = x[i]*x[i]\n",
    "    end\n",
    "    return x1\n",
    "end\n",
    "\n",
    "function f2()\n",
    "    x = 1.0:0.1:1000\n",
    "    x1 = x.*x\n",
    "    return x1\n",
    "end"
   ]
  },
  {
   "cell_type": "code",
   "execution_count": 5,
   "id": "f749c7f4",
   "metadata": {},
   "outputs": [
    {
     "name": "stdout",
     "output_type": "stream",
     "text": [
      "  0.000041 seconds (2 allocations: 78.109 KiB)\n"
     ]
    },
    {
     "ename": "UndefVarError",
     "evalue": "UndefVarError: x1 not defined",
     "output_type": "error",
     "traceback": [
      "UndefVarError: x1 not defined\n",
      "\n",
      "Stacktrace:\n",
      " [1] f2()\n",
      "   @ Main c:\\Users\\kaiza\\OneDrive\\Desktop\\code\\src\\tester.ipynb:12\n",
      " [2] top-level scope\n",
      "   @ .\\timing.jl:262 [inlined]\n",
      " [3] top-level scope\n",
      "   @ c:\\Users\\kaiza\\OneDrive\\Desktop\\code\\src\\tester.ipynb:0"
     ]
    }
   ],
   "source": [
    "@time f1()\n",
    "@time f2()"
   ]
  }
 ],
 "metadata": {
  "kernelspec": {
   "display_name": "Julia 1.8.3",
   "language": "julia",
   "name": "julia-1.8"
  },
  "language_info": {
   "file_extension": ".jl",
   "mimetype": "application/julia",
   "name": "julia",
   "version": "1.8.3"
  }
 },
 "nbformat": 4,
 "nbformat_minor": 5
}
